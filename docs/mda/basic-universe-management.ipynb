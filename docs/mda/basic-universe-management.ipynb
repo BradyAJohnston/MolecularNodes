{
 "cells": [
  {
   "cell_type": "raw",
   "id": "f2853e3d-e816-4227-884a-0e73d682fcf5",
   "metadata": {},
   "source": [
    "---\n",
    "execute:\n",
    "  enabled: false\n",
    "jupyter: python3\n",
    "---\n"
   ]
  },
  {
   "cell_type": "markdown",
   "id": "55f5cce7-809e-44cb-871a-0cc613413866",
   "metadata": {},
   "source": [
    "# Basic Universe Management\n",
    "- Creating `MDAVis` instance for MDAnalysis visualization\n",
    "- Adding universes\n",
    "- Listing universes\n",
    "- Subscriptable and iterable access to universes\n",
    "- Get universe by name\n",
    "- Deleting universes"
   ]
  },
  {
   "cell_type": "code",
   "execution_count": null,
   "id": "0301324d-37ba-4576-afce-91ebbf4df22f",
   "metadata": {},
   "outputs": [],
   "source": [
    "# Create MDAnalysis Universe\n",
    "import warnings\n",
    "import MDAnalysis as mda\n",
    "from MDAnalysis.tests.datafiles import DCD, PSF\n",
    "\n",
    "warnings.filterwarnings(\"ignore\")\n",
    "u1 = mda.Universe(PSF, DCD)"
   ]
  },
  {
   "cell_type": "code",
   "execution_count": null,
   "id": "8db64b43-7e41-4b19-8104-a7e8642b0648",
   "metadata": {},
   "outputs": [],
   "source": [
    "# Create MDAVis instance from MN\n",
    "import molecularnodes as mn\n",
    "\n",
    "vis = mn.MDAVis()"
   ]
  },
  {
   "cell_type": "code",
   "execution_count": null,
   "id": "d7cebd19-60ef-444f-8a7a-7d186032ff30",
   "metadata": {},
   "outputs": [],
   "source": [
    "# Add MDA universe to Blender\n",
    "# vu1 is the visualization universe corresponding to u1\n",
    "vu1 = vis.universes.add(u1)"
   ]
  },
  {
   "cell_type": "code",
   "execution_count": null,
   "id": "489c6559-7c35-495e-b1a5-a245ad6d0b54",
   "metadata": {},
   "outputs": [],
   "source": [
    "# Add another visualiztion universe with a custom style and name\n",
    "vu2 = vis.universes.add(u1, style=\"cartoon\", name=\"customName\")"
   ]
  },
  {
   "cell_type": "code",
   "execution_count": null,
   "id": "5051c0e3-b372-4450-a74f-61be89f9b86f",
   "metadata": {},
   "outputs": [],
   "source": [
    "# List universes\n",
    "vis.universes.list()"
   ]
  },
  {
   "cell_type": "code",
   "execution_count": null,
   "id": "7c250d4d-3d3c-4889-a3ed-6b43bc128f9a",
   "metadata": {},
   "outputs": [],
   "source": [
    "# Subscriptable access to universes\n",
    "# Accessing corresponding Blender object\n",
    "vis.universes[\"customName\"].object"
   ]
  },
  {
   "cell_type": "code",
   "execution_count": null,
   "id": "0c2a3c26-1d94-4667-b9d5-b787a44bdb99",
   "metadata": {},
   "outputs": [],
   "source": [
    "# Subscriptable access to universes\n",
    "# Accessing corresponding trajectory\n",
    "vis.universes[\"customName\"].trajectory"
   ]
  },
  {
   "cell_type": "code",
   "execution_count": null,
   "id": "5e95c013-e3db-4328-9411-2995d3287eaf",
   "metadata": {},
   "outputs": [],
   "source": [
    "# Iterable access to universes\n",
    "for u in vis.universes:\n",
    "    print(u, u.trajectory)"
   ]
  },
  {
   "cell_type": "code",
   "execution_count": null,
   "id": "bc8ce4bc-5b95-45ca-86fd-fa71566f3c9e",
   "metadata": {},
   "outputs": [],
   "source": [
    "# Get universe by name\n",
    "u = vis.universes.get(\"customName\")\n",
    "print(u, u.name)"
   ]
  },
  {
   "cell_type": "code",
   "execution_count": null,
   "id": "d8876bfe-6f72-46b0-8abb-c6bcf999b0bc",
   "metadata": {},
   "outputs": [],
   "source": [
    "# Control visibility of universe\n",
    "# Check visibility\n",
    "print(u.visible)\n",
    "# set visibility\n",
    "u.visible = False\n",
    "print(u.visible)"
   ]
  },
  {
   "cell_type": "code",
   "execution_count": null,
   "id": "a9f83dbe-d7d4-446a-9fa8-3aa3f7494956",
   "metadata": {},
   "outputs": [],
   "source": [
    "# Delete universes\n",
    "# Delete by universe object\n",
    "print(\"Universe list before deletion\")\n",
    "vis.universes.list()\n",
    "vis.universes.delete(vu1)\n",
    "print(\"Universe list after deletion\")\n",
    "vis.universes.list()"
   ]
  },
  {
   "cell_type": "code",
   "execution_count": null,
   "id": "e0eb3ab3-e7e2-4b08-a552-1a7949fb511e",
   "metadata": {},
   "outputs": [],
   "source": [
    "# Delete universes\n",
    "# Delete by universe name\n",
    "vis.universes.delete(\"customName\")\n",
    "vis.universes.list()"
   ]
  },
  {
   "cell_type": "code",
   "execution_count": null,
   "id": "506a6e1f-df82-4659-83dc-c3a449f128f9",
   "metadata": {},
   "outputs": [],
   "source": []
  },
  {
   "cell_type": "code",
   "execution_count": null,
   "id": "e0fc61e4-d323-4aad-a6df-74cb6ca8d869",
   "metadata": {},
   "outputs": [],
   "source": []
  }
 ],
 "metadata": {
  "kernelspec": {
   "display_name": "Python 3 (ipykernel)",
   "language": "python",
   "name": "python3"
  },
  "language_info": {
   "codemirror_mode": {
    "name": "ipython",
    "version": 3
   },
   "file_extension": ".py",
   "mimetype": "text/x-python",
   "name": "python",
   "nbconvert_exporter": "python",
   "pygments_lexer": "ipython3",
   "version": "3.11.11"
  }
 },
 "nbformat": 4,
 "nbformat_minor": 5
}
